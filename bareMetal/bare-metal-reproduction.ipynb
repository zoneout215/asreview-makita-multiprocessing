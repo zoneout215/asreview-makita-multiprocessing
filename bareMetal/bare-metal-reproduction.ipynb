{
 "cells": [
  {
   "attachments": {},
   "cell_type": "markdown",
   "metadata": {},
   "source": [
    "# Reproducing bareMetal time measurements\n",
    "\n",
    "This notebook reproduces the time measurements of the bareMetal with [GNU parallel](https://www.gnu.org/software/parallel/).  \n",
    "The results are stored in the `data` in the root directory of this repository.  \n",
    "Be careful running this notebook, you should account for the number of CPUs you have available, but with that we will help you further."
   ]
  },
  {
   "cell_type": "code",
   "execution_count": 3,
   "metadata": {},
   "outputs": [],
   "source": [
    "import os\n",
    "import multiprocessing"
   ]
  },
  {
   "attachments": {},
   "cell_type": "markdown",
   "metadata": {},
   "source": [
    "> **Warning**\n",
    "> Do not run this notebook on your own machine.\n",
    "> Do not run the code with more CPU requirements than you have available.\n",
    "> To check the number of CPU cores available on your machine, run the following code:"
   ]
  },
  {
   "cell_type": "code",
   "execution_count": 6,
   "metadata": {},
   "outputs": [
    {
     "name": "stdout",
     "output_type": "stream",
     "text": [
      "You have 8 cores available.\n"
     ]
    }
   ],
   "source": [
    "print(f\"You have {multiprocessing.cpu_count()} cores available.\")"
   ]
  },
  {
   "cell_type": "code",
   "execution_count": 7,
   "metadata": {},
   "outputs": [
    {
     "data": {
      "text/plain": [
       "'/Users/sergejromanov/ASReview/my_repo/asreview-makita-multiprocessing/bareMetal'"
      ]
     },
     "execution_count": 7,
     "metadata": {},
     "output_type": "execute_result"
    }
   ],
   "source": [
    "# check if you are in the right directory\n",
    "os.getcwd()"
   ]
  },
  {
   "attachments": {},
   "cell_type": "markdown",
   "metadata": {},
   "source": [
    "## Spliting the jobs.sh File"
   ]
  },
  {
   "cell_type": "code",
   "execution_count": null,
   "metadata": {},
   "outputs": [],
   "source": [
    "!python3 scripts/split-file.py jobs.sh"
   ]
  },
  {
   "attachments": {},
   "cell_type": "markdown",
   "metadata": {},
   "source": [
    "## Running multiprocessed ARFI templates on various CPUs\n",
    "\n",
    "Each of the following chunks of code will run the `parallel_run.sh` script with a different number of CPUs, and remove the resutls after each run.\n",
    "We do not want to store the results of the simulations, as we are only interested in the time measurements of sijmulations, not time measurements of writing to a non-empty directories."
   ]
  },
  {
   "cell_type": "code",
   "execution_count": null,
   "metadata": {},
   "outputs": [],
   "source": [
    "#Non-parallel run\n",
    "!bash parallel_run.sh 1\n",
    "!rm -f -r output "
   ]
  },
  {
   "cell_type": "code",
   "execution_count": null,
   "metadata": {},
   "outputs": [],
   "source": [
    "#CPU 2\n",
    "!bash parallel_run.sh 2\n",
    "!rm -f -r output "
   ]
  },
  {
   "cell_type": "code",
   "execution_count": null,
   "metadata": {},
   "outputs": [],
   "source": [
    "#CPU 4\n",
    "!bash parallel_run.sh 4\n",
    "!rm -f -r output "
   ]
  },
  {
   "cell_type": "code",
   "execution_count": null,
   "metadata": {},
   "outputs": [],
   "source": [
    "#CPU 6\n",
    "!bash parallel_run.sh 6\n",
    "!rm -f -r output "
   ]
  },
  {
   "cell_type": "code",
   "execution_count": null,
   "metadata": {},
   "outputs": [],
   "source": [
    "#CPU 8\n",
    "!bash parallel_run.sh 8\n",
    "!rm -f -r output "
   ]
  },
  {
   "cell_type": "code",
   "execution_count": null,
   "metadata": {},
   "outputs": [],
   "source": [
    "#CPU 10\n",
    "!bash parallel_run.sh 10\n",
    "!rm -f -r output "
   ]
  },
  {
   "cell_type": "code",
   "execution_count": null,
   "metadata": {},
   "outputs": [],
   "source": [
    "#CPU 12\n",
    "!bash parallel_run.sh 12\n",
    "!rm -f -r output "
   ]
  },
  {
   "cell_type": "code",
   "execution_count": null,
   "metadata": {},
   "outputs": [],
   "source": [
    "#CPU 14\n",
    "!bash parallel_run.sh 14\n",
    "!rm -f -r output "
   ]
  },
  {
   "cell_type": "code",
   "execution_count": null,
   "metadata": {},
   "outputs": [],
   "source": [
    "#CPU 16\n",
    "!bash parallel_run.sh 16\n",
    "# !rm -f -r output "
   ]
  }
 ],
 "metadata": {
  "kernelspec": {
   "display_name": "Python 3",
   "language": "python",
   "name": "python3"
  },
  "language_info": {
   "codemirror_mode": {
    "name": "ipython",
    "version": 3
   },
   "file_extension": ".py",
   "mimetype": "text/x-python",
   "name": "python",
   "nbconvert_exporter": "python",
   "pygments_lexer": "ipython3",
   "version": "3.9.12"
  },
  "orig_nbformat": 4
 },
 "nbformat": 4,
 "nbformat_minor": 2
}
